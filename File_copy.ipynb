{
  "nbformat": 4,
  "nbformat_minor": 0,
  "metadata": {
    "colab": {
      "provenance": [],
      "authorship_tag": "ABX9TyMPi3TZcqiS/KqOHIpeAcbS",
      "include_colab_link": true
    },
    "kernelspec": {
      "name": "python3",
      "display_name": "Python 3"
    },
    "language_info": {
      "name": "python"
    }
  },
  "cells": [
    {
      "cell_type": "markdown",
      "metadata": {
        "id": "view-in-github",
        "colab_type": "text"
      },
      "source": [
        "<a href=\"https://colab.research.google.com/github/Kayjayi/computer-vision/blob/main/File_copy.ipynb\" target=\"_parent\"><img src=\"https://colab.research.google.com/assets/colab-badge.svg\" alt=\"Open In Colab\"/></a>"
      ]
    },
    {
      "cell_type": "code",
      "execution_count": null,
      "metadata": {
        "id": "TDGo3VsQXPmx"
      },
      "outputs": [],
      "source": [
        "import os\n",
        "\n",
        "# Specify the folder path containing the files you want to rename\n",
        "folder_path = \"/path/to/your/folder\"\n",
        "\n",
        "# List all files in the folder\n",
        "files = os.listdir(folder_path)\n",
        "\n",
        "# Define a new name pattern (e.g., adding a prefix)\n",
        "new_name_prefix = \"new_name_\"\n",
        "\n",
        "# Loop through the files and rename them\n",
        "for old_name in files:\n",
        "    # Construct the new file name by adding the prefix\n",
        "    new_name = new_name_prefix + old_name\n",
        "\n",
        "    # Full paths to the old and new files\n",
        "    old_path = os.path.join(folder_path, old_name)\n",
        "    new_path = os.path.join(folder_path, new_name)\n",
        "\n",
        "    # Rename the file\n",
        "    os.rename(old_path, new_path)\n",
        "\n",
        "print(\"All files have been renamed.\")"
      ]
    },
    {
      "cell_type": "code",
      "source": [
        "import json\n",
        "\n",
        "# Load the JSON data from a file\n",
        "with open('data.json', 'r') as json_file:\n",
        "    data = json.load(json_file)\n",
        "\n",
        "# Access specific values from the JSON data\n",
        "name = data['name']\n",
        "age = data['age']\n",
        "city = data['city']\n",
        "interests = data['interests']\n",
        "math_score = data['scores']['math']\n",
        "english_score = data['scores']['english']\n",
        "\n",
        "# Perform some analysis or calculations\n",
        "average_score = (math_score + english_score) / 2\n",
        "\n",
        "# Print the results\n",
        "print(f\"Name: {name}\")\n",
        "print(f\"Age: {age}\")\n",
        "print(f\"City: {city}\")\n",
        "print(f\"Interests: {', '.join(interests)}\")\n",
        "print(f\"Math Score: {math_score}\")\n",
        "print(f\"English Score: {english_score}\")\n",
        "print(f\"Average Score: {average_score}\")"
      ],
      "metadata": {
        "id": "7nrlnPpkYoXs"
      },
      "execution_count": null,
      "outputs": []
    },
    {
      "cell_type": "code",
      "source": [
        "import os\n",
        "import json\n",
        "import pandas as pd\n",
        "\n",
        "# Specify the directory containing your JSON files\n",
        "json_directory = \"/path/to/json/files\"\n",
        "\n",
        "# Create empty lists to store extracted data\n",
        "names = []\n",
        "ages = []\n",
        "cities = []\n",
        "\n",
        "# Loop through the JSON files in the directory\n",
        "for filename in os.listdir(json_directory):\n",
        "    if filename.endswith(\".json\"):\n",
        "        file_path = os.path.join(json_directory, filename)\n",
        "\n",
        "        # Load the JSON data from the file\n",
        "        with open(file_path, 'r') as json_file:\n",
        "            json_data = json.load(json_file)\n",
        "\n",
        "        # Extract specific content from each JSON file\n",
        "        name = json_data.get('name', 'Unknown')\n",
        "        age = json_data.get('age', 0)\n",
        "        city = json_data.get('city', 'Unknown')\n",
        "\n",
        "        # Append the extracted data to the respective lists\n",
        "        names.append(name)\n",
        "        ages.append(age)\n",
        "        cities.append(city)\n",
        "\n",
        "# Create a DataFrame from the extracted data\n",
        "data = {\n",
        "    'Name': names,\n",
        "    'Age': ages,\n",
        "    'City': cities\n",
        "}\n",
        "df = pd.DataFrame(data)\n",
        "\n",
        "# Print the DataFrame\n",
        "print(df)\n",
        "\n",
        "\n"
      ],
      "metadata": {
        "id": "3y2O3Q0RZSf0"
      },
      "execution_count": null,
      "outputs": []
    },
    {
      "cell_type": "code",
      "source": [
        "import os\n",
        "import random\n",
        "\n",
        "# Specify the directory containing your files\n",
        "folder_path = \"/path/to/your/folder\"\n",
        "\n",
        "# List all files in the folder\n",
        "files = os.listdir(folder_path)\n",
        "\n",
        "# Check if the folder is not empty\n",
        "if len(files) == 0:\n",
        "    print(\"The folder is empty.\")\n",
        "else:\n",
        "    # Randomly pick a file from the list\n",
        "    random_file = random.choice(files)\n",
        "\n",
        "    # Print the randomly selected file\n",
        "    print(f\"Randomly selected file: {random_file}\")\n"
      ],
      "metadata": {
        "id": "DS2lsZmJZ19V"
      },
      "execution_count": null,
      "outputs": []
    },
    {
      "cell_type": "code",
      "source": [
        "pip install azure-cognitiveservices-vision-customvision\n",
        "from azure.cognitiveservices.vision.customvision.training import CustomVisionTrainingClient\n",
        "from azure.cognitiveservices.vision.customvision.training.models import ImageUrlCreateEntry, ImageUrlCreateBatch\n",
        "from azure.cognitiveservices.vision.customvision.prediction import CustomVisionPredictionClient\n",
        "\n",
        "# Set your Azure Custom Vision API credentials\n",
        "training_key = 'YOUR_TRAINING_KEY'\n",
        "prediction_key = 'YOUR_PREDICTION_KEY'\n",
        "endpoint = 'YOUR_ENDPOINT'\n",
        "\n",
        "# Create a Custom Vision Training client\n",
        "trainer = CustomVisionTrainingClient(training_key, endpoint)\n",
        "\n",
        "# Find your project by name\n",
        "project_name = 'Your_Project_Name'\n",
        "projects = trainer.get_projects()\n",
        "project = next(p for p in projects if p.name == project_name)\n",
        "\n",
        "# Create a Custom Vision Prediction client\n",
        "predictor = CustomVisionPredictionClient(prediction_key, endpoint)\n",
        "\n",
        "# URL of the image you want to make an inference on\n",
        "image_url = 'URL_TO_YOUR_IMAGE'\n",
        "\n",
        "# Use the project's default iteration\n",
        "iteration_id = project.default_iteration_id\n",
        "\n",
        "# Make an inference\n",
        "results = predictor.classify_image_url(project.id, iteration_id, url=image_url)\n",
        "\n",
        "# Print the results\n",
        "for prediction in results.predictions:\n",
        "    print(f\"Tag: {prediction.tag_name}, Probability: {prediction.probability:.2%}\")\n"
      ],
      "metadata": {
        "id": "1H7ucRgOdlZV"
      },
      "execution_count": null,
      "outputs": []
    }
  ]
}