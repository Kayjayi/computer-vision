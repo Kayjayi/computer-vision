{
  "nbformat": 4,
  "nbformat_minor": 0,
  "metadata": {
    "colab": {
      "provenance": [],
      "authorship_tag": "ABX9TyNVeGDmARug7HUc1Nts+r6Q",
      "include_colab_link": true
    },
    "kernelspec": {
      "name": "python3",
      "display_name": "Python 3"
    },
    "language_info": {
      "name": "python"
    }
  },
  "cells": [
    {
      "cell_type": "markdown",
      "metadata": {
        "id": "view-in-github",
        "colab_type": "text"
      },
      "source": [
        "<a href=\"https://colab.research.google.com/github/Kayjayi/computer-vision/blob/main/File_copy.ipynb\" target=\"_parent\"><img src=\"https://colab.research.google.com/assets/colab-badge.svg\" alt=\"Open In Colab\"/></a>"
      ]
    },
    {
      "cell_type": "code",
      "execution_count": null,
      "metadata": {
        "id": "TDGo3VsQXPmx"
      },
      "outputs": [],
      "source": [
        "import os\n",
        "\n",
        "# Specify the folder path containing the files you want to rename\n",
        "folder_path = \"/path/to/your/folder\"\n",
        "\n",
        "# List all files in the folder\n",
        "files = os.listdir(folder_path)\n",
        "\n",
        "# Define a new name pattern (e.g., adding a prefix)\n",
        "new_name_prefix = \"new_name_\"\n",
        "\n",
        "# Loop through the files and rename them\n",
        "for old_name in files:\n",
        "    # Construct the new file name by adding the prefix\n",
        "    new_name = new_name_prefix + old_name\n",
        "\n",
        "    # Full paths to the old and new files\n",
        "    old_path = os.path.join(folder_path, old_name)\n",
        "    new_path = os.path.join(folder_path, new_name)\n",
        "\n",
        "    # Rename the file\n",
        "    os.rename(old_path, new_path)\n",
        "\n",
        "print(\"All files have been renamed.\")"
      ]
    },
    {
      "cell_type": "code",
      "source": [
        "import json\n",
        "\n",
        "# Load the JSON data from a file\n",
        "with open('data.json', 'r') as json_file:\n",
        "    data = json.load(json_file)\n",
        "\n",
        "# Access specific values from the JSON data\n",
        "name = data['name']\n",
        "age = data['age']\n",
        "city = data['city']\n",
        "interests = data['interests']\n",
        "math_score = data['scores']['math']\n",
        "english_score = data['scores']['english']\n",
        "\n",
        "# Perform some analysis or calculations\n",
        "average_score = (math_score + english_score) / 2\n",
        "\n",
        "# Print the results\n",
        "print(f\"Name: {name}\")\n",
        "print(f\"Age: {age}\")\n",
        "print(f\"City: {city}\")\n",
        "print(f\"Interests: {', '.join(interests)}\")\n",
        "print(f\"Math Score: {math_score}\")\n",
        "print(f\"English Score: {english_score}\")\n",
        "print(f\"Average Score: {average_score}\")"
      ],
      "metadata": {
        "id": "7nrlnPpkYoXs"
      },
      "execution_count": null,
      "outputs": []
    },
    {
      "cell_type": "code",
      "source": [
        "import os\n",
        "import json\n",
        "import pandas as pd\n",
        "\n",
        "# Specify the directory containing your JSON files\n",
        "json_directory = \"/path/to/json/files\"\n",
        "\n",
        "# Create empty lists to store extracted data\n",
        "names = []\n",
        "ages = []\n",
        "cities = []\n",
        "\n",
        "# Loop through the JSON files in the directory\n",
        "for filename in os.listdir(json_directory):\n",
        "    if filename.endswith(\".json\"):\n",
        "        file_path = os.path.join(json_directory, filename)\n",
        "\n",
        "        # Load the JSON data from the file\n",
        "        with open(file_path, 'r') as json_file:\n",
        "            json_data = json.load(json_file)\n",
        "\n",
        "        # Extract specific content from each JSON file\n",
        "        name = json_data.get('name', 'Unknown')\n",
        "        age = json_data.get('age', 0)\n",
        "        city = json_data.get('city', 'Unknown')\n",
        "\n",
        "        # Append the extracted data to the respective lists\n",
        "        names.append(name)\n",
        "        ages.append(age)\n",
        "        cities.append(city)\n",
        "\n",
        "# Create a DataFrame from the extracted data\n",
        "data = {\n",
        "    'Name': names,\n",
        "    'Age': ages,\n",
        "    'City': cities\n",
        "}\n",
        "df = pd.DataFrame(data)\n",
        "\n",
        "# Print the DataFrame\n",
        "print(df)\n",
        "\n",
        "\n"
      ],
      "metadata": {
        "id": "3y2O3Q0RZSf0"
      },
      "execution_count": null,
      "outputs": []
    },
    {
      "cell_type": "code",
      "source": [
        "import os\n",
        "import random\n",
        "\n",
        "# Specify the directory containing your files\n",
        "folder_path = \"/path/to/your/folder\"\n",
        "\n",
        "# List all files in the folder\n",
        "files = os.listdir(folder_path)\n",
        "\n",
        "# Check if the folder is not empty\n",
        "if len(files) == 0:\n",
        "    print(\"The folder is empty.\")\n",
        "else:\n",
        "    # Randomly pick a file from the list\n",
        "    random_file = random.choice(files)\n",
        "\n",
        "    # Print the randomly selected file\n",
        "    print(f\"Randomly selected file: {random_file}\")\n"
      ],
      "metadata": {
        "id": "DS2lsZmJZ19V"
      },
      "execution_count": null,
      "outputs": []
    },
    {
      "cell_type": "code",
      "source": [],
      "metadata": {
        "id": "K6ZRO5dC-ywu"
      },
      "execution_count": null,
      "outputs": []
    },
    {
      "cell_type": "code",
      "source": [
        "pip install azure-cognitiveservices-vision-customvision\n",
        "from azure.cognitiveservices.vision.customvision.training import CustomVisionTrainingClient\n",
        "from azure.cognitiveservices.vision.customvision.training.models import ImageUrlCreateEntry, ImageUrlCreateBatch\n",
        "from azure.cognitiveservices.vision.customvision.prediction import CustomVisionPredictionClient\n",
        "\n",
        "# Set your Azure Custom Vision API credentials\n",
        "training_key = 'YOUR_TRAINING_KEY'\n",
        "prediction_key = 'YOUR_PREDICTION_KEY'\n",
        "endpoint = 'YOUR_ENDPOINT'\n",
        "\n",
        "# Create a Custom Vision Training client\n",
        "trainer = CustomVisionTrainingClient(training_key, endpoint)\n",
        "\n",
        "# Find your project by name\n",
        "project_name = 'Your_Project_Name'\n",
        "projects = trainer.get_projects()\n",
        "project = next(p for p in projects if p.name == project_name)\n",
        "\n",
        "# Create a Custom Vision Prediction client\n",
        "predictor = CustomVisionPredictionClient(prediction_key, endpoint)\n",
        "\n",
        "# URL of the image you want to make an inference on\n",
        "image_url = 'URL_TO_YOUR_IMAGE'\n",
        "\n",
        "# Use the project's default iteration\n",
        "iteration_id = project.default_iteration_id\n",
        "\n",
        "# Make an inference\n",
        "results = predictor.classify_image_url(project.id, iteration_id, url=image_url)\n",
        "\n",
        "# Print the results\n",
        "for prediction in results.predictions:\n",
        "    print(f\"Tag: {prediction.tag_name}, Probability: {prediction.probability:.2%}\")\n"
      ],
      "metadata": {
        "id": "1H7ucRgOdlZV"
      },
      "execution_count": null,
      "outputs": []
    },
    {
      "cell_type": "code",
      "source": [
        "#Rename files\n",
        "import os\n",
        "\n",
        "# Function to rename files based on folder structure\n",
        "def rename_files_based_on_folders(root_dir):\n",
        "    for root, dirs, files in os.walk(root_dir):\n",
        "        for file_name in files:\n",
        "            file_path = os.path.join(root, file_name)\n",
        "\n",
        "            # Extract folder names from the directory structure\n",
        "            folders = os.path.split(root)\n",
        "            new_file_name = \"_\".join(folders) + \"_\" + file_name\n",
        "\n",
        "            # Rename the file\n",
        "            new_file_path = os.path.join(root, new_file_name)\n",
        "            os.rename(file_path, new_file_path)\n",
        "            print(f'Renamed: {file_path} -> {new_file_path}')\n",
        "\n",
        "# Specify the root directory where you want to start renaming files\n",
        "root_directory = \"/path/to/root/directory\"\n",
        "rename_files_based_on_folders(root_directory)\n"
      ],
      "metadata": {
        "id": "KscztKNl-zki"
      },
      "execution_count": null,
      "outputs": []
    },
    {
      "cell_type": "code",
      "source": [
        "# Copy files\n",
        "import shutil\n",
        "import os\n",
        "\n",
        "# Source and destination directories\n",
        "source_directory = 'source_folder'\n",
        "destination_directory = 'destination_folder'\n",
        "\n",
        "# List all files in the source directory\n",
        "files = os.listdir(source_directory)\n",
        "\n",
        "# Iterate through the files and copy them to the destination directory\n",
        "for file in files:\n",
        "    source_path = os.path.join(source_directory, file)\n",
        "    destination_path = os.path.join(destination_directory, file)\n",
        "\n",
        "    # Use shutil.copy to copy the file\n",
        "    shutil.copy(source_path, destination_path)\n",
        "\n",
        "    print(f'Copied: {source_path} -> {destination_path}')\n",
        "\n",
        "print('All files copied successfully.')\n"
      ],
      "metadata": {
        "id": "7K1d74hq-9Vg"
      },
      "execution_count": null,
      "outputs": []
    },
    {
      "cell_type": "code",
      "source": [],
      "metadata": {
        "id": "YiNXdlhk_koo"
      },
      "execution_count": null,
      "outputs": []
    },
    {
      "cell_type": "code",
      "source": [
        "# Convert json to jsonl\n",
        "import json\n",
        "\n",
        "# Input and output file paths\n",
        "input_json_file = 'input.json'\n",
        "output_jsonl_file = 'output.jsonl'\n",
        "\n",
        "# Read the input JSON file\n",
        "with open(input_json_file, 'r') as json_file:\n",
        "    data = json.load(json_file)\n",
        "\n",
        "# Write the data as JSONL to the output file\n",
        "with open(output_jsonl_file, 'w') as jsonl_file:\n",
        "    for item in data:\n",
        "        # Convert each JSON object to a string and write it as a line\n",
        "        jsonl_file.write(json.dumps(item) + '\\n')\n",
        "\n",
        "print(f'JSON converted to JSONL and saved to {output_jsonl_file}')\n"
      ],
      "metadata": {
        "id": "A9LnTwYn_cm2"
      },
      "execution_count": null,
      "outputs": []
    },
    {
      "cell_type": "code",
      "source": [
        "#convert cocformat to jsonl\n",
        "import json\n",
        "\n",
        "# Input COCO format JSON file\n",
        "input_coco_file = 'input_coco.json'\n",
        "\n",
        "# Output JSONL file\n",
        "output_jsonl_file = 'output.jsonl'\n",
        "\n",
        "# Load the COCO format JSON file\n",
        "with open(input_coco_file, 'r') as coco_file:\n",
        "    coco_data = json.load(coco_file)\n",
        "\n",
        "# Extract the annotations from the COCO format\n",
        "annotations = coco_data['annotations']\n",
        "\n",
        "# Write the annotations as JSONL to the output file\n",
        "with open(output_jsonl_file, 'w') as jsonl_file:\n",
        "    for annotation in annotations:\n",
        "        # Write each annotation as a separate line in JSONL format\n",
        "        jsonl_file.write(json.dumps(annotation) + '\\n')\n",
        "\n",
        "print(f'COCO format converted to JSONL and saved to {output_jsonl_file}')\n"
      ],
      "metadata": {
        "id": "vlX54DA__l90"
      },
      "execution_count": null,
      "outputs": []
    },
    {
      "cell_type": "code",
      "source": [
        "import json\n",
        "import os\n",
        "\n",
        "# Directory containing multiple COCO format JSON files\n",
        "coco_directory = 'coco_files'\n",
        "\n",
        "# Output JSONL file\n",
        "output_jsonl_file = 'output.jsonl'\n",
        "\n",
        "# Initialize an empty list to hold all annotations\n",
        "all_annotations = []\n",
        "\n",
        "# Loop through all COCO format JSON files in the directory\n",
        "for filename in os.listdir(coco_directory):\n",
        "    if filename.endswith('.json'):\n",
        "        # Load the COCO format JSON file\n",
        "        with open(os.path.join(coco_directory, filename), 'r') as coco_file:\n",
        "            coco_data = json.load(coco_file)\n",
        "\n",
        "        # Extract the annotations from the COCO format\n",
        "        annotations = coco_data['annotations']\n",
        "\n",
        "        # Extend the list of all annotations with the current file's annotations\n",
        "        all_annotations.extend(annotations)\n",
        "\n",
        "# Write all annotations as JSONL to the output file\n",
        "with open(output_jsonl_file, 'w') as jsonl_file:\n",
        "    for annotation in all_annotations:\n",
        "        # Write each annotation as a separate line in JSONL format\n",
        "        jsonl_file.write(json.dumps(annotation) + '\\n')\n",
        "\n",
        "print(f'All COCO format files converted to JSONL and saved to {output_jsonl_file}')\n"
      ],
      "metadata": {
        "id": "YCwJNVpJAR12"
      },
      "execution_count": null,
      "outputs": []
    },
    {
      "cell_type": "code",
      "source": [
        "#Create a docker-compose.yml file to define the containers and their network:\n",
        "version: '3'\n",
        "services:\n",
        "  container_a:\n",
        "    image: your_container_a_image\n",
        "    networks:\n",
        "      - mynetwork\n",
        "\n",
        "  container_b:\n",
        "    image: your_container_b_image\n",
        "    networks:\n",
        "      - mynetwork\n",
        "\n",
        "networks:\n",
        "  mynetwork:\n",
        "\n",
        "#Run the containers using Docker Compose:\n",
        "# Container A code\n",
        "import requests\n",
        "\n",
        "response = requests.get(\"http://container_b\")\n",
        "print(response.text)\n",
        "\n",
        "docker-compose up -d\n",
        "\n",
        "docker-compose down\n"
      ],
      "metadata": {
        "id": "prpgtN0iAl1R"
      },
      "execution_count": null,
      "outputs": []
    },
    {
      "cell_type": "code",
      "source": [
        "import os\n",
        "\n",
        "# Define the directory where you have multiple folders containing files\n",
        "base_directory = '/path/to/parent/folders'\n",
        "\n",
        "# Function to rename files based on parent folder name and index\n",
        "def rename_files_in_folder(folder_path):\n",
        "    folder_name = os.path.basename(folder_path)\n",
        "    file_index = 1\n",
        "\n",
        "    for filename in os.listdir(folder_path):\n",
        "        if os.path.isfile(os.path.join(folder_path, filename)):\n",
        "            # Split the file extension from the filename\n",
        "            name, extension = os.path.splitext(filename)\n",
        "\n",
        "            # Create a new filename based on the folder name and index\n",
        "            new_filename = f\"{folder_name}_{file_index}{extension}\"\n",
        "\n",
        "            # Build the full paths to the old and new files\n",
        "            old_path = os.path.join(folder_path, filename)\n",
        "            new_path = os.path.join(folder_path, new_filename)\n",
        "\n",
        "            # Rename the file\n",
        "            os.rename(old_path, new_path)\n",
        "\n",
        "            file_index += 1\n",
        "\n",
        "# Iterate through each folder in the base directory\n",
        "for folder_name in os.listdir(base_directory):\n",
        "    folder_path = os.path.join(base_directory, folder_name)\n",
        "\n",
        "    # Check if it's a directory (not a file)\n",
        "    if os.path.isdir(folder_path):\n",
        "        # Rename files in this folder\n",
        "        rename_files_in_folder(folder_path)\n",
        "\n",
        "print(\"File renaming completed.\")"
      ],
      "metadata": {
        "id": "bERt82dCFtAj"
      },
      "execution_count": null,
      "outputs": []
    }
  ]
}